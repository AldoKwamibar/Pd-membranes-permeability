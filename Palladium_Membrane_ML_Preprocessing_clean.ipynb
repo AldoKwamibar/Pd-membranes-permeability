{
  "cells": [
    {
      "cell_type": "markdown",
      "metadata": {
        "id": "view-in-github",
        "colab_type": "text"
      },
      "source": [
        "<a href=\"https://colab.research.google.com/github/AldoKwamibar/Pd-membranes-permeability/blob/main/Palladium_Membrane_ML_Preprocessing_clean.ipynb\" target=\"_parent\"><img src=\"https://colab.research.google.com/assets/colab-badge.svg\" alt=\"Open In Colab\"/></a>"
      ]
    },
    {
      "cell_type": "code",
      "execution_count": null,
      "metadata": {
        "id": "BPxFS4EsTfLe"
      },
      "outputs": [],
      "source": [
        "# \"\"\"\n",
        "# This section is a material informatics project aiming to build a quantitative composition-structure-property (QSPR) relationship between palladium-based alloys membranes and their hydrogen permeability.\n",
        "# ...\n",
        "# \"\"\""
      ]
    },
    {
      "cell_type": "code",
      "execution_count": null,
      "metadata": {
        "collapsed": true,
        "id": "6Q2j9zz_T3Cm"
      },
      "outputs": [],
      "source": [
        "%%time\n",
        "# Utilities to visualize periodic table and Element Counts in a material Informatics database\n",
        "!pip install pymatgen matminer"
      ]
    },
    {
      "cell_type": "code",
      "execution_count": null,
      "metadata": {
        "id": "GY8IfoMp0Nf0"
      },
      "outputs": [],
      "source": [
        "%%time\n",
        "# Import useful packages and dependencies\n",
        "import os\n",
        "import pandas as pd\n",
        "import numpy as np\n",
        "import scipy as sc\n",
        "import re\n",
        "import unicodedata\n",
        "import matplotlib.pyplot as plt\n",
        "import seaborn as sns\n",
        "%matplotlib inline\n",
        "%config InlineBackend.figure_format='retina' #Allow image to have high resolution\n",
        "np.random.seed(42) # Ensure reproducibility"
      ]
    },
    {
      "cell_type": "code",
      "execution_count": null,
      "metadata": {
        "id": "546lnH_a1B6P"
      },
      "outputs": [],
      "source": [
        "%%time\n",
        "from pymatgen.core import Element, Composition\n",
        "from matminer.featurizers.composition import ElementFraction\n",
        "from matminer.featurizers.conversions import StrToComposition"
      ]
    },
    {
      "cell_type": "code",
      "execution_count": null,
      "metadata": {
        "id": "f10l3MIDTrba"
      },
      "outputs": [],
      "source": [
        "%%time\n",
        "# Mounting google drive to import and export file from and to it\n",
        "from google.colab import drive\n",
        "drive.mount('/content/drive')"
      ]
    },
    {
      "cell_type": "code",
      "execution_count": null,
      "metadata": {
        "id": "lKNwJJ6sy9Le"
      },
      "outputs": [],
      "source": [
        "# def  create_folder(path):\n",
        "#   if not os.path.exists(path):\n",
        "#     os.makedirs(path)\n",
        "#     print(f'Directory {path} created.')\n",
        "#   else:\n",
        "#     print(f'Directory {path} already exists.')\n",
        "# create_folder('/content/drive/Dataset_MaterialInformatics_PhD')\n",
        "# create_folder('/content/drive/result_MaterialInformatics_PhD')\n",
        "\n",
        "# os.chdir('/content/drive/Colab Notebooks/')\n",
        "# print('Work space:', os.getcwd())"
      ]
    },
    {
      "cell_type": "code",
      "execution_count": null,
      "metadata": {
        "id": "KjKk4Y23UWx_"
      },
      "outputs": [],
      "source": [
        "%%time\n",
        "# Setting this options allow Pandas to display every columns. By default only few are displayed.\n",
        "pd.set_option('display.max_columns', None)\n",
        "pd.set_option('display.max_rows', None)"
      ]
    },
    {
      "cell_type": "code",
      "execution_count": null,
      "metadata": {
        "id": "o5-dCPtK7svz"
      },
      "outputs": [],
      "source": [
        "%%time\n",
        "data_path = '/content/drive/MyDrive/PhD_Pd alloy prediction/Palladium_Alloy_Membranes dataset_QSPR_ML.csv'\n",
        "raw_data_1 = pd.read_csv(data_path)\n",
        "print(f'Original DataFrame shape: {raw_data_1.shape}')"
      ]
    },
    {
      "cell_type": "code",
      "execution_count": null,
      "metadata": {
        "id": "3eZyDRZENkKr"
      },
      "outputs": [],
      "source": [
        "%%time\n",
        "raw_data_1.info()"
      ]
    },
    {
      "cell_type": "code",
      "execution_count": null,
      "metadata": {
        "collapsed": true,
        "id": "d1vAFYQNXIbJ"
      },
      "outputs": [],
      "source": [
        "# Displaying columns-name-corrected dataset\n",
        "%%time\n",
        "raw_data_1.head()"
      ]
    },
    {
      "cell_type": "code",
      "execution_count": null,
      "metadata": {
        "collapsed": true,
        "id": "xbziEazsNri-"
      },
      "outputs": [],
      "source": [
        "%%time\n",
        "raw_data_1.describe(include=[np.number])"
      ]
    },
    {
      "cell_type": "code",
      "execution_count": null,
      "metadata": {
        "id": "yxkO-QrEcr0o"
      },
      "outputs": [],
      "source": [
        "# Renaming some column names in the dataset to remove newline '\\n' sign\n",
        "%%time\n",
        "rename_dict = {'Composition\\n type': 'Composition type',\n",
        "              'Thickness \\n(micron)':'Thickness (micron)',\n",
        "              'Latice parameter (nm)': 'Lattice parameter (nm)',\n",
        "              'Diffusion \\ncoefficient\\n(cm^2.s^-1)': 'Diffusion coefficient(cm^2.s^-1)',\n",
        "              raw_data_1.columns.values[13]: 'Pressure difference P1^n-P2^n (Pa^n)',\n",
        "              'Inverse temperature \\n1E3/T (1E3 K-1)': 'Inverse temperature (1000/T in (1000 K^-1))',\n",
        "              raw_data_1.columns.values[14]: 'Pressure exponent (n)',\n",
        "              'Hydrogen Permeation Flux\\n(mol.m^-2.s^-1)': 'Hydrogen Permeation Flux (mol.m^-2.s^-1)',\n",
        "              'Permeation \\nActivation Energy (KJ/mol)': 'Permeation Activation Energy (KJ/mol)',\n",
        "              'Bravais lattice in as-manufactured state':'Bravais lattice'}\n",
        "raw_data_1=raw_data_1.rename(columns=rename_dict)"
      ]
    },
    {
      "cell_type": "code",
      "execution_count": null,
      "metadata": {
        "id": "tpWReV-gbhkf"
      },
      "outputs": [],
      "source": [
        "# Dropping some columns\n",
        "%%time\n",
        "df = raw_data_1.copy()\n",
        "columns_to_drop = [#Not sufficient data were recovered from the literature to populate this columns (diffusivity, solubility, Activation Energy, etc.)\n",
        "                  #They would have been very helpfull.\n",
        "    'fcc lattice parameter for Cu alloys', 'Bravais lattice in as-annealed form for PdCu based membranes', 'Inverse temperature (1000/T in (1000 K^-1))', 'Diffusion coefficient(cm^2.s^-1)', 'Effective area (cm^2)', 'Membrane support', 'Type of support', 'Gases', 'Solubility constant Ks (Pa^-0.5)', 'Hydrogen Permeation Flux (mol.m^-2.s^-1)', 'Permeation Activation Energy (KJ/mol)', 'Hydrogen Permeance (mol.m^-2.s^-1.Pa^-0.5)', 'Feed Flow rate (mL.min^-1)', 'Hydrogen transfer rate s.c.f.h.(mil).(sq.ft.)^-1', 'Conversion factor', 'Number','Unnamed: 31']\n",
        "df = df.drop(columns=[col for col in columns_to_drop if col in df.columns])\n",
        "raw_data_1_col_dropped = df"
      ]
    },
    {
      "cell_type": "code",
      "execution_count": null,
      "metadata": {
        "id": "nQK4IV7nm0NM"
      },
      "outputs": [],
      "source": [
        "# Ckecking NaN in the 'Alloy Formula' column. If there are unfilled rows in that column, so they are considered null and can be removed.\n",
        "%%time\n",
        "df2 = raw_data_1_col_dropped.copy()\n",
        "bool_nans_formula=df2['Alloy Formula'].isnull()\n",
        "df2 = df2.drop(df2.loc[bool_nans_formula].index, axis=0).reset_index(drop=True)\n",
        "raw_data_1_col_nan_dropped=df2\n",
        "# Drop the rows of the DataFrame which contain NaNs\n",
        "print(f'DataFrame shape before dropping NaNs: {raw_data_1_col_dropped.shape}')\n",
        "print(f'DataFrame shape after NaNs are dropped: {df2.shape}')\n",
        "print(f'raw_data_1_col_nan_dropped shape after dropping NaNs: {raw_data_1_col_nan_dropped.shape}')"
      ]
    },
    {
      "cell_type": "code",
      "execution_count": null,
      "metadata": {
        "id": "fNddlt7hgkLu"
      },
      "outputs": [],
      "source": [
        "# Changing data types: Here, for example the thickness that should be a numeric is in object type\n",
        "%%time\n",
        "raw_data_1_col_nan_dropped.dtypes"
      ]
    },
    {
      "cell_type": "code",
      "execution_count": null,
      "metadata": {
        "id": "jecWIrWihyhc"
      },
      "outputs": [],
      "source": [
        "# Converting data types to the proper category. Numerical datatypes are converted to numerics np.float64 and string types remains 'str'\n",
        "%%time\n",
        "type_dict={'Alloy Formula':str,\n",
        "           'Composition type':str,\n",
        "           'Form':str,\n",
        "           'Composition in mole percent': str,\n",
        "           'Thickness (micron)': np.float64,\n",
        "           'Lattice parameter (nm)':np.float64,\n",
        "           'Bravais lattice':str,\n",
        "           'Temperature (°C)':np.float64,\n",
        "           'Fabrication technique':str,\n",
        "           'Pressure difference P1^n-P2^n (Pa^n)':np.float64,\n",
        "           'Pressure exponent (n)':np.float64,\n",
        "           'Hydrogen permeability (mol.m^-1.s^-1.Pa^-n)':np.float64}\n",
        "\n",
        "raw_data_1_col_nan_dropped = raw_data_1_col_nan_dropped.astype(type_dict)"
      ]
    },
    {
      "cell_type": "code",
      "execution_count": null,
      "metadata": {
        "id": "EN2PTXcXjT_i"
      },
      "outputs": [],
      "source": [
        "# Checking if everything went correctly\n",
        "%%time\n",
        "raw_data_1_col_nan_dropped.dtypes"
      ]
    },
    {
      "cell_type": "code",
      "execution_count": null,
      "metadata": {
        "id": "pC_xOxfGkDQ7"
      },
      "outputs": [],
      "source": [
        "# The columns ['Composition type', 'Form', 'Bravais lattice in as-manufactured state', 'Fabrication technique'] contains some inconsitencies\n",
        "#  Homogenizing the Composition type column\n",
        "%%time\n",
        "print(raw_data_1_col_nan_dropped['Composition type'].unique())\n",
        "\n",
        "ctinstance_dict={'mole fraction':'mole percent',\n",
        "                 'mole fraction ':'mole percent',\n",
        "                 'weight fraction':'weight percent',\n",
        "                 'mole fractiion': 'mole percent',\n",
        "                 'weight fraction ': 'weight percent',\n",
        "                 'weight':'weight percent'}\n",
        "\n",
        "raw_data_1_col_nan_dropped['Composition type'] = raw_data_1_col_nan_dropped['Composition type'].replace(ctinstance_dict)\n",
        "print(raw_data_1_col_nan_dropped['Composition type'].unique())\n",
        "# The nan represent empty lines"
      ]
    },
    {
      "cell_type": "code",
      "execution_count": null,
      "metadata": {
        "id": "Qq6j6uqdthQ6"
      },
      "outputs": [],
      "source": [
        "# Homogenizing the Form column\n",
        "%%time\n",
        "print(raw_data_1_col_nan_dropped['Form'].unique())\n",
        "\n",
        "raw_data_1_col_nan_dropped['Form'] = raw_data_1_col_nan_dropped['Form'].replace({'foils':'foil',\n",
        "                                                                                 'Self-standing':'self-standing foil',\n",
        "                                                                                 'Condensed foils':'condensed foil',\n",
        "                                                                                 'free-hanging':'free-hanging foil',\n",
        "                                                                                 'foils//ecthed foils':'untouched foil and etched foil',\n",
        "                                                                                 'foils on silicon wafer': 'foil prepared on Silicon wafer',\n",
        "                                                                                 'foils/self-standing': 'self-standing foil'})\n",
        "\n",
        "# Replace the nan values with 'foil'\n",
        "raw_data_1_col_nan_dropped.loc[raw_data_1_col_nan_dropped['Form'].isnull(), 'Form'] = 'foil'\n",
        "# Reprint the unique values\n",
        "print(raw_data_1_col_nan_dropped['Form'].unique())"
      ]
    },
    {
      "cell_type": "code",
      "execution_count": null,
      "metadata": {
        "id": "BcrrYLtXwsV5"
      },
      "outputs": [],
      "source": [
        "# Homogenizing the Fabrication technique column\n",
        "%%time\n",
        "\n",
        "raw_data_1_col_nan_dropped['Fabrication technique'] = raw_data_1_col_nan_dropped['Fabrication technique'].str.capitalize()\n",
        "\n",
        "raw_data_1_col_nan_dropped['Fabrication technique'] = raw_data_1_col_nan_dropped['Fabrication technique'].replace({\n",
        "    'Arc melting in inert atmoosphere/cold rolling/intermediate vacuum annealing':'Arc melting in inert atmosphere/Cold rolling/intermediate vacuum annealing',\n",
        "    'Commercial alfa aesar': 'Commercial Alfa Aesar',\n",
        "    'Commercial/goodfellow co.':'Commercial Goodfellow Co.',\n",
        "    'Melting casrting an cold rolling':'Melt casting and cold rolling',\n",
        "    'Pellet from commercial pd powder/cold rolling':'Pellet from commercial Pd powder/Cold rolling',\n",
        "    'Arc melting/cold rolling/cfubmsip (close field unballanced magnetron sputtering ion plating)':'Arc melting/cold rolling/CFUBMSIP (Close Field Unballanced Magnetron Sputtering Ion Plating)',\n",
        "    'Dc magnetron sputtering':'DC-magnetron sputtering'})\n",
        "\n",
        "print(raw_data_1_col_nan_dropped['Fabrication technique'].unique())"
      ]
    },
    {
      "cell_type": "code",
      "execution_count": null,
      "metadata": {
        "id": "yvC_NDlD0mms"
      },
      "outputs": [],
      "source": [
        "# Homogenizing the Bravais lattice in as-manufactured state columns\n",
        "%%time\n",
        "raw_data_1_col_nan_dropped['Bravais lattice']=raw_data_1_col_nan_dropped['Bravais lattice'].replace({'bcc + fcc': 'bcc/fcc', 'fcc+bcc': 'bcc/fcc', 'fcc+bcc/bcc': 'bcc/fcc', 'bcc+fcc':'bcc/fcc'})\n",
        "print(raw_data_1_col_nan_dropped['Bravais lattice'].unique())\n",
        "# The nan values belongs to PdCu alloys, and we will be calculated those later on automatically"
      ]
    },
    {
      "cell_type": "code",
      "execution_count": null,
      "metadata": {
        "id": "z6_Q4VsLChGD"
      },
      "outputs": [],
      "source": [
        "%%time\n",
        "# We are going to parse a little bit the formula to make them clean and ready for conversion to composition object using pymatgen or matminer packages\n",
        "def clean_formula(formula):\n",
        "    if isinstance(formula, str):\n",
        "        # Normalize all unicode whitespace\n",
        "        formula = ''.join(c for c in formula if not unicodedata.category(c).startswith('Z'))\n",
        "        formula = re.sub(r\"[^A-Za-z0-9.]\", \"\", formula)\n",
        "        return formula\n",
        "    return formula"
      ]
    },
    {
      "cell_type": "code",
      "execution_count": null,
      "metadata": {
        "id": "QzPZN31mC5JH"
      },
      "outputs": [],
      "source": [
        "%%time\n",
        "# Applying the formula\n",
        "raw_data_1_col_nan_dropped[['Composition in mole percent', 'Alloy Formula']] = raw_data_1_col_nan_dropped[['Composition in mole percent', 'Alloy Formula']].apply(clean_formula)"
      ]
    },
    {
      "cell_type": "code",
      "execution_count": null,
      "metadata": {
        "id": "E0Jp49TNcsfZ"
      },
      "outputs": [],
      "source": [
        "%%time\n",
        "raw_data_1_col_nan_dropped['Composition in mole percent'].unique()"
      ]
    },
    {
      "cell_type": "code",
      "execution_count": null,
      "metadata": {
        "id": "TTd96PCS4_m5"
      },
      "outputs": [],
      "source": [
        "# Convert The Formula from weight percent to mole percent\n",
        "# Define atomic weights globally for reuse\n",
        "# Reference for periodic table: https://periodic.lanl.gov/index.shtml\n",
        "# Reference on regular expressions with re module: https://docs.python.org/3/library/re.html\n",
        "# Reference for formula to convert weight percent to atomic percent: https://plasmaterials.com/converting-atomic-percent-to-weight-percent-and-vice-versa/\n",
        "%%time\n",
        "ATOMIC_WEIGHTS = {\n",
        "    'B': 10.81, 'Sc': 44.96, 'Ti': 47.88, 'V': 50.94, 'Cr': 52.00, 'Mn': 54.94, 'Fe': 55.85,\n",
        "    'Co': 58.93, 'Ni': 58.69, 'Cu': 63.55, 'Zn': 65.39, 'Ga': 69.72, 'Y': 88.91, 'Zr': 91.22,\n",
        "    'Nb': 92.91, 'Mo': 95.96, 'Tc': 98, 'Ru': 101.1, 'Rh': 102.9, 'Pd': 106.4, 'Ag': 107.9,\n",
        "    'Cd': 112.4, 'In': 114.8, 'Sn': 118.7, 'Pb': 207.2, 'La': 138.9, 'Ce': 140.1, 'Pr': 140.9,\n",
        "    'Nd': 144.2, 'Pm': 145, 'Sm': 150.4, 'Eu': 152.0, 'Gd': 157.2, 'Tb': 158.9, 'Dy': 162.5,\n",
        "    'Ho': 164.9, 'Er': 167.3, 'Tm': 168.9, 'Yb': 173.0, 'Lu': 175.0, 'Hf': 178.5, 'Ta': 180.9,\n",
        "    'W': 183.9, 'Re': 186.2, 'Os': 190.2, 'Ir': 192.2, 'Pt': 195.1, 'Au': 197.0, 'Al':26.98\n",
        "}\n",
        "\n",
        "def weight_percent_to_atomic_percent(formula: str) -> str: #Only formula in the form AxBy... are handled (Can be binary, ternary or more). Make sure x,y are weight  percentage\n",
        "    \"\"\"\n",
        "    Convert a chemical formula from weight percentage (e.g., 'Pd60.00Cu40.00')\n",
        "    to atomic percent (e.g., 'Pd47.25Cu52.75').\n",
        "\n",
        "    Parameters:\n",
        "        formula (str): Chemical formula with weight percentages.\n",
        "\n",
        "    Returns:\n",
        "        str: Reformatted chemical formula in atomic percent.\n",
        "    \"\"\"\n",
        "    # Extract elements and their weight percentages\n",
        "    tokens = re.findall(r'[A-Z][a-z]?|\\d+\\.?\\d*', formula) # This returns a list of the element symbols and weight percentage\n",
        "\n",
        "    # Build a dictionary with the key equal the element symbol and the values equal to the weight percentage and a atomic weight: {element:(weight percent, atomic weight) ...}\n",
        "    element_data = {}\n",
        "    for i in range(0, len(tokens) - 1, 2):\n",
        "        element = tokens[i]\n",
        "        weight_percent = float(tokens[i + 1])\n",
        "        atomic_weight = ATOMIC_WEIGHTS.get(element) #get the values i.e atomic weight for the elements\n",
        "\n",
        "        if atomic_weight is None:\n",
        "            raise ValueError(f\"Atomic weight for element '{element}' is not defined.\")\n",
        "\n",
        "        element_data[element] = (weight_percent, atomic_weight)\n",
        "\n",
        "    # Convert weight % to atomic %\n",
        "    denominator = sum(wt / at_wt for wt, at_wt in element_data.values())\n",
        "    atomic_percent = {\n",
        "        element: round((wt / at_wt) / denominator * 100, 2)\n",
        "        for element, (wt, at_wt) in element_data.items()\n",
        "    }\n",
        "\n",
        "    # Create output string in the form: Pd47.25Cu52.75\n",
        "    output = ''.join(f\"{el}{val}\" for el, val in atomic_percent.items())\n",
        "    return output"
      ]
    },
    {
      "cell_type": "code",
      "execution_count": null,
      "metadata": {
        "id": "L_w6B-GXWySi"
      },
      "outputs": [],
      "source": [
        "%%time\n",
        "# Copy original dataframe\n",
        "df3 = raw_data_1_col_nan_dropped.copy()\n",
        "\n",
        "# Step 1: Separate before modifying\n",
        "df3_weight = df3[df3['Composition type'] == 'weight percent'].copy()\n",
        "df3_atomic = df3[df3['Composition type'] == 'mole percent'].copy()\n",
        "\n",
        "# Step 2: Convert weight percent --> atomic percent\n",
        "df3_weight['Composition in mole percent'] = df3_weight['Alloy Formula'].apply(weight_percent_to_atomic_percent)\n",
        "df3_weight['Composition type'] = 'weight percent'\n",
        "\n",
        "# Step 3: Use existing mole percent directly\n",
        "df3_atomic['Composition in mole percent'] = df3_atomic['Alloy Formula']\n",
        "\n",
        "# Step 4: Concatenate the two dataframes\n",
        "df3_cleaned = pd.concat([df3_atomic, df3_weight], axis=0, ignore_index=True)\n",
        "\n",
        "# sort values by ascending order (default) and reset index. This means we will have PdAg, PdAu and PdB, etc. before PdCe, PdCu etc.\n",
        "df4 = df3_cleaned.sort_values(by='Composition in mole percent').reset_index(drop=True)\n",
        "raw_data_1_col_nan_dropped=df4"
      ]
    },
    {
      "cell_type": "code",
      "execution_count": null,
      "metadata": {
        "id": "Lz0xelRda1l3"
      },
      "outputs": [],
      "source": [
        "# We reparse the formulas for security\n",
        "%%time\n",
        "raw_data_1_col_nan_dropped['Composition in mole percent'] = raw_data_1_col_nan_dropped['Composition in mole percent'].apply(clean_formula)\n",
        "raw_data_1_col_nan_dropped['Composition in mole percent'].unique()"
      ]
    },
    {
      "cell_type": "code",
      "execution_count": null,
      "metadata": {
        "id": "2ntuTSNd4wYz"
      },
      "outputs": [],
      "source": [
        "# Removing invalid n values i.e n>1 because they are not a frequent trend from the literature\n",
        "%%time\n",
        "df5 = raw_data_1_col_nan_dropped.copy()\n",
        "bool_invalid_n = df5['Pressure exponent (n)']>0.5\n",
        "print(f'The number of datapoints with n>0.5 is {raw_data_1_col_nan_dropped[bool_invalid_n].shape[0]}')\n",
        "\n",
        "df5 = df5.drop(df5.loc[bool_invalid_n].index, axis = 0).reset_index(drop=True)\n",
        "raw_data_1_col_nan_dropped = df5\n",
        "\n",
        "print(f'The shape of the dataset with n<=0.5 is {raw_data_1_col_nan_dropped.shape[0]}')"
      ]
    },
    {
      "cell_type": "code",
      "execution_count": null,
      "metadata": {
        "id": "MpbqzjFSAEh1"
      },
      "outputs": [],
      "source": [
        "# Remove Study by Li because it was done using plasma heating, and El Shafie\n",
        "%%time\n",
        "df6=raw_data_1_col_nan_dropped.copy()\n",
        "bool_invalid_ref = df6['Reference'].isin(['(Li et al., 2023)', '(El Shafie et al., 2020) '])\n",
        "print(f'Total number of points in refs (Li et al., 2023) and (El Shafie et al., 2020) are: {raw_data_1_col_nan_dropped[bool_invalid_ref].shape[0]}')\n",
        "print(f'The shape of the dataset before refs (Li et al., 2023) and (El Shafie et al., 2020) were removed is: {raw_data_1_col_nan_dropped.shape[0]}')\n",
        "df6=df6.drop(df6.loc[bool_invalid_ref].index, axis = 0).reset_index(drop=True)\n",
        "raw_data_1_col_nan_dropped=df6\n",
        "print(f'The shape of the dataset after the removal of refs (Li et al., 2023) and (El Shafie et al., 2020): {raw_data_1_col_nan_dropped.shape[0]}')"
      ]
    },
    {
      "cell_type": "code",
      "execution_count": null,
      "metadata": {
        "id": "MaHD11GgW-iX"
      },
      "outputs": [],
      "source": [
        "# Remove Study with hydrogen permeability >=1.0e-7\n",
        "# Those data belongs to (Ievlev et al. 2012) and are about PdCu, but it is rare that the permeability of PdCu40 reach that level. This is due to their surface cleaning method.\n",
        "# Keeping these values will distort the distribution of data\n",
        "bool_perm_higher_than_e_power_minus_7 = raw_data_1_col_nan_dropped['Hydrogen permeability (mol.m^-1.s^-1.Pa^-n)']>=1.0e-7\n",
        "print(f'The number of data points with permeability value superior >=1.0e-7 are removed is: {raw_data_1_col_nan_dropped[bool_perm_higher_than_e_power_minus_7].shape[0]}')\n",
        "print(f'The size of the starting dataset is {raw_data_1_col_nan_dropped.shape[0]}')\n",
        "df6 = df6.drop(df6.loc[bool_perm_higher_than_e_power_minus_7].index, axis = 0).reset_index(drop=True)\n",
        "raw_data_1_col_nan_dropped=df6\n",
        "\n",
        "# Verify if concerned data points have been removed successfully still\n",
        "print(f'The shape of the dataset after data points with permeability>=1.0e-7 are removed is: {raw_data_1_col_nan_dropped.shape[0]}')"
      ]
    },
    {
      "cell_type": "code",
      "execution_count": null,
      "metadata": {
        "id": "YiSvgBj06kmq"
      },
      "outputs": [],
      "source": [
        "%%time\n",
        "raw_data_1_col_nan_dropped.isnull().sum()"
      ]
    },
    {
      "cell_type": "code",
      "execution_count": null,
      "metadata": {
        "id": "3bTyX9d1Maz-"
      },
      "outputs": [],
      "source": [
        "%%time\n",
        "# Making sure all the missing lattice parameter values in the the 'Lattice parameter (nm)' belongs to the PdCu system :) Yes\n",
        "raw_data_1_col_nan_dropped[raw_data_1_col_nan_dropped['Lattice parameter (nm)'].isnull()]['Alloy Formula'].unique()"
      ]
    },
    {
      "cell_type": "code",
      "execution_count": null,
      "metadata": {
        "id": "D9rp3R6aPdhR"
      },
      "outputs": [],
      "source": [
        "%%time\n",
        "# Step 1: Parse string formulas into Composition objects\n",
        "# This ensures robust parsing, even if formulas are inconsistently formatted\n",
        "stc = StrToComposition(target_col_id=\"Composition_matrix\")\n",
        "print('Shape before formulas parsing into composition object:', raw_data_1_col_nan_dropped.shape)\n",
        "raw_data_1_col_nan_dropped = stc.featurize_dataframe(raw_data_1_col_nan_dropped, col_id=\"Composition in mole percent\")\n",
        "\n",
        "# Step 2: Drop rows where parsing failed (Composition_matrix is NaN)\n",
        "raw_data_1_col_nan_dropped = raw_data_1_col_nan_dropped.dropna(subset=[\"Composition_matrix\"]).reset_index(drop=True)\n",
        "print('Shape after formulas parsing into composition object:', raw_data_1_col_nan_dropped.shape)\n",
        "\n",
        "# Step 3: Transform the composition object to element fraction matrix using Matminer's ElementFraction\n",
        "ef = ElementFraction()\n",
        "raw_data_1_col_nan_dropped = ef.featurize_dataframe(\n",
        "    raw_data_1_col_nan_dropped,\n",
        "    col_id=\"Composition_matrix\",\n",
        "    ignore_errors=True\n",
        ")\n",
        "\n",
        "# Step 4: Remove element columns with only zero values\n",
        "raw_data_1_col_nan_dropped_matm = raw_data_1_col_nan_dropped.loc[:, (raw_data_1_col_nan_dropped != 0).any(axis=0)]\n",
        "print('The shape of the dataframe with 0 element column dropped is:', raw_data_1_col_nan_dropped_matm.shape)"
      ]
    },
    {
      "cell_type": "code",
      "execution_count": null,
      "metadata": {
        "id": "9Ggp1WEQU_Gm"
      },
      "outputs": [],
      "source": [
        "%%time\n",
        "#Print the datatype of the of the composition object. Is it a dictionary object?\n",
        "print(type(raw_data_1_col_nan_dropped_matm.loc[0, 'Composition_matrix'].as_dict()))"
      ]
    },
    {
      "cell_type": "code",
      "execution_count": null,
      "metadata": {
        "id": "TSl60okiLsyf"
      },
      "outputs": [],
      "source": [
        "%%time\n",
        "# In other to filling the NaN in the lattice paramter column, we will be applying Matminer to handle this much easily\n",
        "# Estimating the lattice parameter of missing alloys\n",
        "\n",
        "# Write a function to estimate the lattice parameter of PdCu alloy systems based on their atomic composition\n",
        "# The lattice parameter of FCC PdCu obeys Vegard's law of a = (2.75*1.0e-3)*X_Pd + 3.62 (in Angström) where X_Pd is the mole percentage\n",
        "# The lattice paramter of BCC PdCu obeys Vegard's law of a = (1.57*1.0e-3)*X_Pd + 2.90 (in Angström) where X_Pd is the mole percentage\n",
        "# Reference in (Al-Mufachi et al., 2015), doi: https://doi.org/10.1016/j.memsci.2015.07.015\n",
        "\n",
        "# Determine the boundaries of the phase diagram of PdCu\n",
        "# Reference in: (Subramanian and Laughlin, 1991), https://www.andrew.cmu.edu/user/dl0p/laughlin/pdf/128.pdf\n",
        "# fcc (%Pd): 0-23.411513859275052\n",
        "# B2+fcc (%Pd): 23.411513859275052-31.194029850746263\n",
        "# B2 (%Pd): 31.194029850746263-49.53091684434967\n",
        "# B2+fcc (%Pd): 49.53091684434967-65.09594882729209\n",
        "# fcc(%Pd): 65.09594882729209\n",
        "\n",
        "def PdCu_lattice(raw_data_1_col_nan_dropped_matm):\n",
        "    \"\"\"\n",
        "    Estimates the lattice parameter for PdCu alloys with missing values.\n",
        "    Uses phase diagram boundaries to determine structure and lattice parameter.\n",
        "    Assuming that before conducting a measurment with mixed bcc/fcc alloy, researcher would anneal completely to B2 intermetallic\n",
        "    \"\"\"\n",
        "    # Identify rows with missing lattice parameters\n",
        "    dataframe_block = raw_data_1_col_nan_dropped_matm.loc[raw_data_1_col_nan_dropped_matm['Lattice parameter (nm)'].isnull()].copy()\n",
        "\n",
        "    # Define Pd-Cu phase diagram ranges\n",
        "    Pd_Cu = {'Pd', 'Cu'}\n",
        "    fcc_1_range = [0, 23.4115]\n",
        "    fcc_2_range = [65.0959, 100]\n",
        "    B2_fcc_range_1 = [23.4115, 31.1940]\n",
        "    B2_fcc_range_2 = [49.5309, 65.0959]\n",
        "    B2_range = [31.1940, 49.5309]\n",
        "\n",
        "    # Define lattice parameter equations\n",
        "    def estimate_lattice(row):\n",
        "        # Ensure composition is PdCu only\n",
        "        element_dict = row['Composition_matrix'].as_dict()\n",
        "        if set(element_dict.keys()) == Pd_Cu:\n",
        "            amount_Pd = element_dict.get('Pd', 0)\n",
        "\n",
        "            # Determine phase and calculate correponding lattice parameter\n",
        "            if min(fcc_1_range) <= amount_Pd <= max(fcc_1_range) or min(fcc_2_range) <= amount_Pd <= max(fcc_2_range):\n",
        "                return 'fcc', ((2.75e-3) * amount_Pd + 3.62) / 10 # We want the answer in nm instead of Angstrom\n",
        "            elif min(B2_range) <= amount_Pd <= max(B2_range):\n",
        "                return 'bcc', ((1.57e-3) * amount_Pd + 2.90) / 10\n",
        "            elif min(B2_fcc_range_1) <= amount_Pd <= max(B2_fcc_range_1) or min(B2_fcc_range_2) <= amount_Pd <= max(B2_fcc_range_2):\n",
        "                return 'bcc/fcc', (0.5 * ((2.75e-3) * amount_Pd + 3.62) + 0.5 * ((1.57e-3) * amount_Pd + 2.90)) / 10\n",
        "            else:\n",
        "                return 'Unknown', np.nan\n",
        "        return row['Bravais lattice'], row['Lattice parameter (nm)']\n",
        "\n",
        "    # Apply the function to determine phase & lattice parameter\n",
        "    dataframe_block[['Bravais lattice', 'Lattice parameter (nm)']] = dataframe_block.apply(\n",
        "        estimate_lattice, axis=1, result_type=\"expand\"\n",
        "    )\n",
        "\n",
        "    # Update original dataframe safely\n",
        "    raw_data_1_col_nan_dropped_matm.update(dataframe_block)\n",
        "    return raw_data_1_col_nan_dropped_matm"
      ]
    },
    {
      "cell_type": "code",
      "execution_count": null,
      "metadata": {
        "id": "rLs9Vi96euwk"
      },
      "outputs": [],
      "source": [
        "%%time\n",
        "# Applying the function to the dataframe\n",
        "df7=raw_data_1_col_nan_dropped_matm.copy()\n",
        "raw_data_1_col_nan_dropped_matm = PdCu_lattice(df7)"
      ]
    },
    {
      "cell_type": "code",
      "execution_count": null,
      "metadata": {
        "id": "7LiCf0ULW_ac"
      },
      "outputs": [],
      "source": [
        "# The application was successfull\n",
        "%%time\n",
        "raw_data_1_col_nan_dropped_matm.isnull().sum()"
      ]
    },
    {
      "cell_type": "code",
      "execution_count": null,
      "metadata": {
        "id": "uaUd4QqMif6q"
      },
      "outputs": [],
      "source": [
        "%%time\n",
        "def pymatcomp_obj_to_mpformula(x):\n",
        "    \"\"\"\n",
        "    Converts a pymatgen Composition object (from StrToComposition)\n",
        "    into a formula string with element order preserved.\n",
        "\n",
        "    Parameters:\n",
        "    - x: Composition object\n",
        "\n",
        "    Returns:\n",
        "    - str: string formula like 'Pd47.25Cu52.75'\n",
        "    \"\"\"\n",
        "    comp_dict = x.as_dict()\n",
        "    return ''.join(f\"{el}{round(amt, 2)}\" for el, amt in comp_dict.items())"
      ]
    },
    {
      "cell_type": "code",
      "execution_count": null,
      "metadata": {
        "id": "RxhkRnntpgy4"
      },
      "outputs": [],
      "source": [
        "%%time\n",
        "# We create a new column \"Membrane Formula\".\n",
        "raw_data_1_col_nan_dropped_matm['Membrane Formula']=raw_data_1_col_nan_dropped_matm['Composition_matrix'].apply(pymatcomp_obj_to_mpformula)\n",
        "s=raw_data_1_col_nan_dropped_matm['Membrane Formula']\n",
        "raw_data_1_col_nan_dropped_matm.pop('Membrane Formula')\n",
        "raw_data_1_col_nan_dropped_matm.insert(4,'Membrane Formula', s)"
      ]
    },
    {
      "cell_type": "code",
      "execution_count": null,
      "metadata": {
        "id": "n52bjqMdtBJ6"
      },
      "outputs": [],
      "source": [
        "%%time\n",
        "# All the columns of Pd have been appended 'Pd1.0' which is not elegant. We replace it by 'Pd'.\n",
        "raw_data_1_col_nan_dropped_matm['Membrane Formula']=raw_data_1_col_nan_dropped_matm['Membrane Formula'].where(raw_data_1_col_nan_dropped_matm['Membrane Formula']!='Pd1.0', 'Pd')"
      ]
    },
    {
      "cell_type": "code",
      "execution_count": null,
      "metadata": {
        "collapsed": true,
        "id": "wRDIhozfsIgN"
      },
      "outputs": [],
      "source": [
        "%%time\n",
        "# Checking\n",
        "raw_data_1_col_nan_dropped_matm['Membrane Formula'].unique()"
      ]
    },
    {
      "cell_type": "code",
      "execution_count": null,
      "metadata": {
        "id": "MLcYXg23zRBe"
      },
      "outputs": [],
      "source": [
        "# Drop duplicated rows, if there are still any\n",
        "%%time\n",
        "print('The shape of the dataframe before duplicated rows dropping:', raw_data_1_col_nan_dropped_matm.shape)\n",
        "df8=raw_data_1_col_nan_dropped_matm.copy()\n",
        "# df8[df8.iloc[:,5::].duplicated()==True]\n",
        "to_show = ['Thickness (micron)', 'Lattice parameter (nm)', 'Temperature (°C)', 'Pressure difference P1^n-P2^n (Pa^n)', 'Pressure exponent (n)', 'Hydrogen permeability (mol.m^-1.s^-1.Pa^-n)']\n",
        "df8=df8.drop_duplicates(subset=to_show, ignore_index=True)\n",
        "raw_data_1_col_nan_dropped_matm=df8\n",
        "print('The shape of the dataframe after duplicated rows dropped:', raw_data_1_col_nan_dropped_matm.shape)"
      ]
    },
    {
      "cell_type": "code",
      "execution_count": null,
      "metadata": {
        "id": "0Ln0logR2RiJ"
      },
      "outputs": [],
      "source": [
        "# Utility function to convert unit into SI\n",
        "%%time\n",
        "def micron_to_meter(x):\n",
        "    return np.nan if pd.isnull(x) else x / (1e6)\n",
        "\n",
        "def celsius_to_kelvin(x):\n",
        "    return np.nan if pd.isnull(x) else x + 273.15\n",
        "\n",
        "def nanometer_to_meter(x):\n",
        "    return np.nan if pd.isnull(x) else x / (1e9)"
      ]
    },
    {
      "cell_type": "code",
      "execution_count": null,
      "metadata": {
        "collapsed": true,
        "id": "p6XW-Wl52cPy"
      },
      "outputs": [],
      "source": [
        "# Unit conversion\n",
        "%%time\n",
        "raw_data_1_col_nan_dropped_matm[['Thickness (micron)', 'Temperature (°C)',  'Lattice parameter (nm)']]= raw_data_1_col_nan_dropped_matm.transform({\n",
        "    'Thickness (micron)':micron_to_meter,\n",
        "    'Temperature (°C)':celsius_to_kelvin,\n",
        "    'Lattice parameter (nm)':nanometer_to_meter\n",
        "}\n",
        ")\n",
        "rename_dict = {'Thickness (micron)':'Thickness (m)', 'Temperature (°C)':'Temperature (K)', 'Lattice parameter (nm)':'Lattice parameter (m)', 'Pressure exponent (n)':'Pressure exponent n', 'Hydrogen permeability (mol.m^-1.s^-1.Pa^-n)':'Permeability (mol/m/s/Pa^n)'}\n",
        "\n",
        "raw_data_1_col_nan_dropped_matm=raw_data_1_col_nan_dropped_matm.rename(columns=rename_dict)\n",
        "raw_data_1_col_nan_dropped_matm.head()"
      ]
    },
    {
      "cell_type": "code",
      "execution_count": null,
      "metadata": {
        "collapsed": true,
        "id": "43l2hnOvpzUb"
      },
      "outputs": [],
      "source": [
        "%%time\n",
        "bool_mask = raw_data_1_col_nan_dropped_matm['Composition in mole percent']!=raw_data_1_col_nan_dropped_matm['Membrane Formula']\n",
        "raw_data_1_col_nan_dropped_matm[bool_mask]"
      ]
    },
    {
      "cell_type": "code",
      "execution_count": null,
      "metadata": {
        "id": "s8J00tdExSnt"
      },
      "outputs": [],
      "source": [
        "%%time\n",
        "# Drop the 'Composition in mole percent' column because its content is same as 'Membrane Formula', but the latter is better because created using pymatgen composition #object\n",
        "df9=raw_data_1_col_nan_dropped_matm.copy()\n",
        "df9=df9.drop(columns=['Composition in mole percent'])\n",
        "raw_data_1_col_nan_dropped_matm=df9"
      ]
    },
    {
      "cell_type": "code",
      "execution_count": null,
      "metadata": {
        "id": "olIvm-eQxqjH"
      },
      "outputs": [],
      "source": [
        "%%time\n",
        "# Renaming the 'Membrane Formula' column into 'Composition in mole percent'.\n",
        "raw_data_1_col_nan_dropped_matm=raw_data_1_col_nan_dropped_matm.rename(columns={'Membrane Formula':'Composition in mole percent'})"
      ]
    },
    {
      "cell_type": "code",
      "execution_count": null,
      "metadata": {
        "collapsed": true,
        "id": "WQmcydJEyVtE"
      },
      "outputs": [],
      "source": [
        "%%time\n",
        "# Check few raw if everything worked perfectly\n",
        "raw_data_1_col_nan_dropped_matm.head()"
      ]
    },
    {
      "cell_type": "code",
      "execution_count": null,
      "metadata": {
        "id": "IUGaxlJpLejT"
      },
      "outputs": [],
      "source": [
        "raw_data_1_col_nan_dropped_matm['Composition in mole percent'].shape"
      ]
    },
    {
      "cell_type": "code",
      "execution_count": null,
      "metadata": {
        "id": "jRF8f5Ma4J4f"
      },
      "outputs": [],
      "source": [
        "# len(raw_data_1_col_nan_dropped_matm['Reference'].unique())"
      ]
    },
    {
      "cell_type": "code",
      "execution_count": null,
      "metadata": {
        "id": "JeBWO-QZRNZS"
      },
      "outputs": [],
      "source": [
        "# Define your directory (I save using pickle because it conserved my datatype from notebooks to notebooks, while csv can't)\n",
        "%%time\n",
        "\n",
        "# Define filename\n",
        "filename = 'Pd_membrane_data_preprocessed.pkl'\n",
        "\n",
        "# Define save directory\n",
        "out_path = '/content/drive/MyDrive/PhD_Pd alloy prediction/Resut_Data_cleaning'\n",
        "\n",
        "# Build the full path safely\n",
        "file_path = os.path.join(out_path, filename)\n",
        "\n",
        "# Save the DataFrame\n",
        "raw_data_1_col_nan_dropped_matm.to_pickle(file_path)\n",
        "\n",
        "# Load it later\n",
        "# df_loaded = pd.read_pickle(file_path)"
      ]
    },
    {
      "cell_type": "code",
      "execution_count": null,
      "metadata": {
        "id": "7o9hObUb7krU"
      },
      "outputs": [],
      "source": [
        "# # Saving the dataset\n",
        "# %%time\n",
        "# # Define output path\n",
        "# out_path = '/content/drive/MyDrive/PhD_Pd alloy prediction/Resut_Data_cleaning/Pd_Membrane_Preprocessed.csv'\n",
        "\n",
        "# # Save DataFrame to CSV\n",
        "# raw_data_1_col_nan_dropped_matm.to_csv(out_path, index=False)\n",
        "\n",
        "# # Optional: Confirm it was saved\n",
        "# print(f\"Data successfully saved to: {out_path}\")"
      ]
    }
  ],
  "metadata": {
    "colab": {
      "generative_ai_disabled": true,
      "provenance": [],
      "authorship_tag": "ABX9TyN8n/e4F38Dg87sax0b1Zcr",
      "include_colab_link": true
    },
    "kernelspec": {
      "display_name": "Python 3",
      "name": "python3"
    },
    "language_info": {
      "name": "python"
    }
  },
  "nbformat": 4,
  "nbformat_minor": 0
}